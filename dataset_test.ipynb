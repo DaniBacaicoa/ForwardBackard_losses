{
 "cells": [
  {
   "cell_type": "markdown",
   "metadata": {},
   "source": [
    "This script reproduces what the main.py function does but divided into its parts so we can visualize the whole process"
   ]
  },
  {
   "cell_type": "code",
   "execution_count": 2,
   "metadata": {},
   "outputs": [],
   "source": [
    "import os\n",
    "import torch\n",
    "import torch.nn as nn\n",
    "import numpy as np\n",
    "import argparse"
   ]
  },
  {
   "cell_type": "code",
   "execution_count": 5,
   "metadata": {},
   "outputs": [],
   "source": [
    "dataset_base_path = 'Datasets/weak_datasets'\n",
    "dataset = 'german'\n",
    "corruption = 'Noisy_Natarajan'\n",
    "corr_p = 0.5\n",
    "corr_n = None\n",
    "if corr_n is not None:\n",
    "        folder_path = os.path.join(dataset_base_path, f'{dataset}_{corruption}_p_+{corr_p}p_-{corr_n}')\n",
    "else:\n",
    "        folder_path = os.path.join(dataset_base_path, f'{dataset}_{corruption}_p{corr_p}')\n",
    "if not os.path.exists(folder_path):\n",
    "        os.makedirs(folder_path)"
   ]
  },
  {
   "cell_type": "code",
   "execution_count": null,
   "metadata": {},
   "outputs": [],
   "source": []
  }
 ],
 "metadata": {
  "kernelspec": {
   "display_name": ".venv",
   "language": "python",
   "name": "python3"
  },
  "language_info": {
   "codemirror_mode": {
    "name": "ipython",
    "version": 3
   },
   "file_extension": ".py",
   "mimetype": "text/x-python",
   "name": "python",
   "nbconvert_exporter": "python",
   "pygments_lexer": "ipython3",
   "version": "3.12.2"
  }
 },
 "nbformat": 4,
 "nbformat_minor": 2
}
