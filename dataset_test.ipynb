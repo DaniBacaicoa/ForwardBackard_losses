{
 "cells": [
  {
   "cell_type": "markdown",
   "metadata": {},
   "source": [
    "This script reproduces what the main.py function does but divided into its parts so we can visualize the whole process"
   ]
  },
  {
   "cell_type": "code",
   "execution_count": null,
   "metadata": {},
   "outputs": [],
   "source": [
    "import os\n",
    "import torch\n",
    "import torch.nn as nn\n",
    "import numpy as np\n",
    "import argparse\n",
    "from ucimlrepo import fetch_ucirepo "
   ]
  },
  {
   "cell_type": "code",
   "execution_count": 5,
   "metadata": {},
   "outputs": [],
   "source": [
    "from src.dataset import Data_handling\n",
    "from src.weakener import Weakener\n",
    "from src.model import MLP\n",
    "from utils.datasets_generation import generate_dataset\n",
    "import utils.losses as losses"
   ]
  },
  {
   "cell_type": "code",
   "execution_count": null,
   "metadata": {},
   "outputs": [],
   "source": [
    "reps = 10\n",
    "dataset_base_path = 'Datasets/weak_datasets'\n",
    "dataset = 'image'\n",
    "corruption = 'pll'\n",
    "corr_p = 0.5\n",
    "corr_n = None\n",
    "\n",
    "for i in range(reps):\n",
    "        generate_dataset(dataset=dataset,corruption=corruption,corr_p=corr_p,repetitions=i)\n"
   ]
  },
  {
   "cell_type": "code",
   "execution_count": null,
   "metadata": {},
   "outputs": [],
   "source": [
    "for i in range(reps):\n",
    "    base_dir = \"Datasets/weak_datasets\"\n",
    "    if corr_n is not None:\n",
    "        folder_path = os.path.join(base_dir, f'{dataset}_{corruption}_p_+{corr_p}p_-{corr_n}')\n",
    "    else:\n",
    "        folder_path = os.path.join(base_dir, f'{dataset}_{corruption}_p{corr_p}')\n",
    "    f = open(folder_path + f'/Dataset_{i}.pkl','rb')\n",
    "    Data,Weak = pickle.load(f)\n",
    "    f.close()\n",
    "\n",
    "    if loss_type == 'Forward':\n",
    "        loss.fn = losses.FwdBwdLoss(Weak.Y,np.eye(Weak.c))\n",
    "    elif loss_type == 'Backward':\n",
    "        loss.fn = losses.FwdBwdLoss(np.eye(Weak.d),Weak.M)\n",
    "    elif loss_type == 'EM':\n",
    "        loss.fn = losses.EMLoss(Weak.M)\n",
    "    elif loss_type == 'LBL':\n",
    "        loss.fn = losses.LBLoss()\n",
    "    elif loss_type == 'Backward_opt':\n",
    "        loss.fn = losses.FwdBwdLoss(Weak.Y_opt,np.eye(Weak.c))\n",
    "    elif loss_type == 'Backward_conv':\n",
    "        loss.fn = losses.FwdBwdLoss(Weak.Y_conv,np.eye(Weak.c))\n",
    "    elif loss_type == 'Backward_opt_conv':\n",
    "        loss.fn = losses.FwdBwdLoss(Weak.Y_opt_conv,np.eye(Weak.c))\n",
    "\n",
    "\n",
    "\n",
    "\n",
    "\n",
    "\n",
    "\n",
    "# Bwd = FwdBwdLoss(pinv(M),I_c)\n",
    "# Fwd = FwdBwdLoss(I_d,M)"
   ]
  }
 ],
 "metadata": {
  "kernelspec": {
   "display_name": ".venv",
   "language": "python",
   "name": "python3"
  },
  "language_info": {
   "codemirror_mode": {
    "name": "ipython",
    "version": 3
   },
   "file_extension": ".py",
   "mimetype": "text/x-python",
   "name": "python",
   "nbconvert_exporter": "python",
   "pygments_lexer": "ipython3",
   "version": "3.12.2"
  }
 },
 "nbformat": 4,
 "nbformat_minor": 2
}
